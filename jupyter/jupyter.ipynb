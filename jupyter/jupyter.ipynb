{
  "nbformat": 4,
  "nbformat_minor": 0,
  "metadata": {
    "colab": {
      "name": "jupyter",
      "provenance": []
    },
    "kernelspec": {
      "name": "python3",
      "display_name": "Python 3"
    },
    "language_info": {
      "name": "python"
    }
  },
  "cells": [
    {
      "cell_type": "code",
      "execution_count": null,
      "metadata": {
        "colab": {
          "base_uri": "https://localhost:8080/"
        },
        "id": "gKbX-rdZFO0n",
        "outputId": "3401fd9c-a9cf-4d4e-c94b-8879d3b95382",
        "cellView": "form"
      },
      "outputs": [
        {
          "output_type": "stream",
          "name": "stdout",
          "text": [
            "^C\n",
            "^C\n"
          ]
        }
      ],
      "source": [
        "#@title Build archiso profiles\n",
        "\n",
        "profile = \"releng\" #@param [\"releng\"]\n",
        "mirror = \"geo.mirror.pkgbuild.com\" #@param [\"geo.mirror.pkgbuild.com\"]\n",
        "#@markdown The whole process takes about an hour, so brew a coffee, don't\n",
        "#@markdown close the page and be ready to prove you're not a robot.\n",
        "\n",
        "#@markdown **NOTE:** Down run this on your local Ubuntu, you will break it.\n",
        "\n",
        "!apt install git python-pip >/dev/null 2>&1\n",
        "!sudo pip install ipython >/dev/null 2>&1\n",
        "!git clone https://github.com/tallero/archiso-profiles >/dev/null 2>&1\n",
        "!git -C archiso-profiles checkout -b noapps >/dev/null 2>&1\n",
        "!git -C archiso-profiles pull origin noapps >/dev/null 2>&1\n",
        "%run \"archiso-profiles/jupyter/build.ipy\"\n",
        "\n",
        "build_releng()"
      ]
    },
    {
      "cell_type": "markdown",
      "source": [
        "<iframe width=\"560\" height=\"315\"\n",
        "src=\"https://www.youtube.com/embed/MUQfKFzIOeU\" \n",
        "frameborder=\"0\" \n",
        "allow=\"accelerometer; autoplay; encrypted-media; gyroscope; picture-in-picture\" \n",
        "allowfullscreen></iframe>"
      ],
      "metadata": {
        "id": "5v3Xo2wAdjPD"
      }
    },
    {
      "cell_type": "code",
      "source": [
        ""
      ],
      "metadata": {
        "id": "9ZIm4r30Kb_i"
      },
      "execution_count": null,
      "outputs": []
    }
  ]
}